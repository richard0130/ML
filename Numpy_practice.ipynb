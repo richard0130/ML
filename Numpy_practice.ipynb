{
 "cells": [
  {
   "cell_type": "markdown",
   "id": "8edf5b06",
   "metadata": {},
   "source": [
    "**1.How do you create a 1D array of numbers from 0 to 9 using NumPy?**"
   ]
  },
  {
   "cell_type": "code",
   "execution_count": 1,
   "id": "267ec722",
   "metadata": {},
   "outputs": [
    {
     "data": {
      "text/plain": [
       "array([0, 1, 2, 3, 4, 5, 6, 7, 8, 9])"
      ]
     },
     "execution_count": 1,
     "metadata": {},
     "output_type": "execute_result"
    }
   ],
   "source": [
    "import numpy as np\n",
    "array = np.arange(10)\n",
    "array\n"
   ]
  },
  {
   "cell_type": "markdown",
   "id": "f6b921a0",
   "metadata": {},
   "source": [
    "**2. How can you create a 2D array with 3 rows and 4 columns filled with zeros?**"
   ]
  },
  {
   "cell_type": "code",
   "execution_count": 2,
   "id": "d9bf28eb",
   "metadata": {},
   "outputs": [
    {
     "data": {
      "text/plain": [
       "array([[0., 0., 0., 0.],\n",
       "       [0., 0., 0., 0.],\n",
       "       [0., 0., 0., 0.]])"
      ]
     },
     "execution_count": 2,
     "metadata": {},
     "output_type": "execute_result"
    }
   ],
   "source": [
    "ma= np.zeros((3, 4))\n",
    "ma"
   ]
  },
  {
   "cell_type": "markdown",
   "id": "dd243c67",
   "metadata": {},
   "source": [
    "**3. What is the difference between arange() and linspace() in NumPy?**"
   ]
  },
  {
   "cell_type": "markdown",
   "id": "2ef800d8",
   "metadata": {},
   "source": [
    "**#arange**"
   ]
  },
  {
   "cell_type": "code",
   "execution_count": 3,
   "id": "26a5ba09",
   "metadata": {},
   "outputs": [
    {
     "data": {
      "text/plain": [
       "array([0, 1, 2, 3, 4, 5, 6, 7, 8, 9])"
      ]
     },
     "execution_count": 3,
     "metadata": {},
     "output_type": "execute_result"
    }
   ],
   "source": [
    "array = np.arange(10)\n",
    "array"
   ]
  },
  {
   "cell_type": "markdown",
   "id": "ae326d0d",
   "metadata": {},
   "source": [
    "**#linspace**"
   ]
  },
  {
   "cell_type": "code",
   "execution_count": 4,
   "id": "a1b237c0",
   "metadata": {},
   "outputs": [
    {
     "data": {
      "text/plain": [
       "array([ 0., 10., 20.])"
      ]
     },
     "execution_count": 4,
     "metadata": {},
     "output_type": "execute_result"
    }
   ],
   "source": [
    "array = np.linspace(0, 20,3)\n",
    "array"
   ]
  },
  {
   "cell_type": "markdown",
   "id": "15b47018",
   "metadata": {},
   "source": [
    "**#4.How can you create a NumPy array with random values?**"
   ]
  },
  {
   "cell_type": "code",
   "execution_count": 5,
   "id": "f9b473c4",
   "metadata": {},
   "outputs": [
    {
     "data": {
      "text/plain": [
       "array([[0.17267598, 0.58518676, 0.46129431],\n",
       "       [0.63630784, 0.48451942, 0.42453832]])"
      ]
     },
     "execution_count": 5,
     "metadata": {},
     "output_type": "execute_result"
    }
   ],
   "source": [
    "# Creating a 2x3 array of random floats between 0 and 1\n",
    "array = np.random.rand(2, 3)\n",
    "array"
   ]
  },
  {
   "cell_type": "markdown",
   "id": "71eb88f6",
   "metadata": {},
   "source": [
    "**# 5. How do you perform element-wise addition of two arrays in NumPy?**"
   ]
  },
  {
   "cell_type": "code",
   "execution_count": 6,
   "id": "0bf2b728",
   "metadata": {},
   "outputs": [
    {
     "name": "stdout",
     "output_type": "stream",
     "text": [
      "[ 7  9 11]\n"
     ]
    }
   ],
   "source": [
    "array1= np.array([2,3,4])\n",
    "array2= np.array([5,6,7])\n",
    "result= np.add(array1 ,array2)\n",
    "print(result)"
   ]
  },
  {
   "cell_type": "markdown",
   "id": "17145fa7",
   "metadata": {},
   "source": [
    "**# 6. How can you find the maximum value in a NumPy array?**\n"
   ]
  },
  {
   "cell_type": "code",
   "execution_count": 7,
   "id": "e883c82d",
   "metadata": {},
   "outputs": [
    {
     "data": {
      "text/plain": [
       "456"
      ]
     },
     "execution_count": 7,
     "metadata": {},
     "output_type": "execute_result"
    }
   ],
   "source": [
    "array= [1,3,44,55,64,23,6,7,8,99,21,456]\n",
    "max_value= np.max(array)\n",
    "max_value"
   ]
  },
  {
   "cell_type": "markdown",
   "id": "08f2b99a",
   "metadata": {},
   "source": [
    "**# 7. How can you flatten a 2D NumPy array into a 1D array?**"
   ]
  },
  {
   "cell_type": "code",
   "execution_count": 8,
   "id": "e75401ab",
   "metadata": {},
   "outputs": [
    {
     "data": {
      "text/plain": [
       "array([1, 2, 3, 4, 5, 6])"
      ]
     },
     "execution_count": 8,
     "metadata": {},
     "output_type": "execute_result"
    }
   ],
   "source": [
    "array=np.array([[1,2,3],\n",
    "                [4,5,6]])\n",
    "array1=array.flatten()\n",
    "array1"
   ]
  },
  {
   "cell_type": "markdown",
   "id": "1fc87fbe",
   "metadata": {},
   "source": [
    "**# 8. How do you change the shape of a NumPy array from 3x3 to 1x9?**"
   ]
  },
  {
   "cell_type": "code",
   "execution_count": 9,
   "id": "6dbcfa33",
   "metadata": {},
   "outputs": [
    {
     "data": {
      "text/plain": [
       "array([[1, 2, 3, 2, 3, 6, 2, 4, 7]])"
      ]
     },
     "execution_count": 9,
     "metadata": {},
     "output_type": "execute_result"
    }
   ],
   "source": [
    "array=np.array([[1,2,3],[2,3,6],\n",
    "                [2,4,7]])\n",
    "reshape_array= array.reshape(1,9)\n",
    "reshape_array"
   ]
  },
  {
   "cell_type": "markdown",
   "id": "cfe2b4d5",
   "metadata": {},
   "source": [
    "**# 9. How can you transpose a matrix in NumPy?**"
   ]
  },
  {
   "cell_type": "code",
   "execution_count": 10,
   "id": "ffcb02ce",
   "metadata": {},
   "outputs": [
    {
     "data": {
      "text/plain": [
       "array([[1, 4, 7],\n",
       "       [2, 5, 8],\n",
       "       [3, 6, 9]])"
      ]
     },
     "execution_count": 10,
     "metadata": {},
     "output_type": "execute_result"
    }
   ],
   "source": [
    "import numpy as np\n",
    "\n",
    "# Creating a 2x3 matrix\n",
    "mat = np.array([[1, 2, 3], \n",
    "                   [4, 5, 6],\n",
    "               [7,8,9]])\n",
    "\n",
    "# Transposing the matrix\n",
    "transposed_matrix = np.transpose(mat)\n",
    "transposed_matrix"
   ]
  },
  {
   "cell_type": "markdown",
   "id": "654be7fa",
   "metadata": {},
   "source": [
    "**# 10.How do you find the sum of all elements in a NumPy array?**"
   ]
  },
  {
   "cell_type": "code",
   "execution_count": 11,
   "id": "f764a604",
   "metadata": {},
   "outputs": [
    {
     "data": {
      "text/plain": [
       "15"
      ]
     },
     "execution_count": 11,
     "metadata": {},
     "output_type": "execute_result"
    }
   ],
   "source": [
    "# Creating a 1D array\n",
    "array = np.array([1, 2, 3, 4, 5])\n",
    "\n",
    "# Finding the sum of all elements\n",
    "total_sum = np.sum(array)\n",
    "total_sum\n"
   ]
  },
  {
   "cell_type": "markdown",
   "id": "4ed269d9",
   "metadata": {},
   "source": [
    "**11.How can you get the mean, median, and standard deviation of a NumPy\n",
    "array?**"
   ]
  },
  {
   "cell_type": "code",
   "execution_count": 12,
   "id": "4e4cc68c",
   "metadata": {},
   "outputs": [],
   "source": [
    "arr = np.array([1, 2, 3, 4, 5, 6, 7, 8, 9])\n"
   ]
  },
  {
   "cell_type": "code",
   "execution_count": 13,
   "id": "99154be3",
   "metadata": {},
   "outputs": [
    {
     "data": {
      "text/plain": [
       "5.0"
      ]
     },
     "execution_count": 13,
     "metadata": {},
     "output_type": "execute_result"
    }
   ],
   "source": [
    "mean = np.mean(arr)\n",
    "mean"
   ]
  },
  {
   "cell_type": "code",
   "execution_count": 14,
   "id": "92b10851",
   "metadata": {},
   "outputs": [
    {
     "data": {
      "text/plain": [
       "5.0"
      ]
     },
     "execution_count": 14,
     "metadata": {},
     "output_type": "execute_result"
    }
   ],
   "source": [
    "median = np.median(arr)\n",
    "median"
   ]
  },
  {
   "cell_type": "code",
   "execution_count": 15,
   "id": "bce9e3df",
   "metadata": {},
   "outputs": [
    {
     "data": {
      "text/plain": [
       "2.581988897471611"
      ]
     },
     "execution_count": 15,
     "metadata": {},
     "output_type": "execute_result"
    }
   ],
   "source": [
    "std_dev = np.std(arr)\n",
    "std_dev"
   ]
  },
  {
   "cell_type": "markdown",
   "id": "b980fb98",
   "metadata": {},
   "source": [
    "**12.How can you slice a 3x3 NumPy array to get the first two rows?**"
   ]
  },
  {
   "cell_type": "code",
   "execution_count": 16,
   "id": "ba770842",
   "metadata": {},
   "outputs": [
    {
     "data": {
      "text/plain": [
       "array([[1, 2, 3],\n",
       "       [4, 5, 6]])"
      ]
     },
     "execution_count": 16,
     "metadata": {},
     "output_type": "execute_result"
    }
   ],
   "source": [
    "arr = np.array([[1, 2, 3],\n",
    "                [4, 5, 6],\n",
    "                [7, 8, 9]])\n",
    "\n",
    "first_two_rows = arr[:2, :]\n",
    "first_two_rows\n"
   ]
  },
  {
   "cell_type": "markdown",
   "id": "6ec0de4c",
   "metadata": {},
   "source": [
    "**13.How can you find the index of the maximum value in a NumPy array?**"
   ]
  },
  {
   "cell_type": "code",
   "execution_count": 17,
   "id": "83dbac51",
   "metadata": {},
   "outputs": [
    {
     "data": {
      "text/plain": [
       "5"
      ]
     },
     "execution_count": 17,
     "metadata": {},
     "output_type": "execute_result"
    }
   ],
   "source": [
    "arr = np.array([1, 3, 7, 9, 2, 51])\n",
    "max_index = np.argmax(arr)\n",
    "max_index"
   ]
  },
  {
   "cell_type": "markdown",
   "id": "d31eb862",
   "metadata": {},
   "source": [
    "**14.How do you select all elements greater than 5 in a NumPy array?**"
   ]
  },
  {
   "cell_type": "code",
   "execution_count": 18,
   "id": "4b5a54f0",
   "metadata": {},
   "outputs": [
    {
     "data": {
      "text/plain": [
       "array([6, 8, 7])"
      ]
     },
     "execution_count": 18,
     "metadata": {},
     "output_type": "execute_result"
    }
   ],
   "source": [
    "arr = np.array([1, 6, 3, 8, 5, 7])\n",
    "greater_than_5 = arr[arr > 5]\n",
    "greater_than_5"
   ]
  },
  {
   "cell_type": "markdown",
   "id": "b8134954",
   "metadata": {},
   "source": [
    "**15.How can you perform matrix multiplication with NumPy?**"
   ]
  },
  {
   "cell_type": "code",
   "execution_count": 19,
   "id": "123bea2e",
   "metadata": {},
   "outputs": [
    {
     "data": {
      "text/plain": [
       "array([[19, 22],\n",
       "       [43, 50]])"
      ]
     },
     "execution_count": 19,
     "metadata": {},
     "output_type": "execute_result"
    }
   ],
   "source": [
    "A = np.array([[1, 2],\n",
    "              [3, 4]])\n",
    "\n",
    "B = np.array([[5, 6],\n",
    "              [7, 8]])\n",
    "result = np.matmul(A, B)\n",
    "result"
   ]
  },
  {
   "cell_type": "markdown",
   "id": "a7bb5714",
   "metadata": {},
   "source": [
    "**16.How do you create a 4x4 identity matrix using NumPy?**"
   ]
  },
  {
   "cell_type": "code",
   "execution_count": 20,
   "id": "d271290a",
   "metadata": {},
   "outputs": [
    {
     "data": {
      "text/plain": [
       "array([[1., 0., 0., 0.],\n",
       "       [0., 1., 0., 0.],\n",
       "       [0., 0., 1., 0.],\n",
       "       [0., 0., 0., 1.]])"
      ]
     },
     "execution_count": 20,
     "metadata": {},
     "output_type": "execute_result"
    }
   ],
   "source": [
    "identity_matrix = np.eye(4)\n",
    "identity_matrix"
   ]
  },
  {
   "cell_type": "markdown",
   "id": "d2a65ab0",
   "metadata": {},
   "source": [
    "**17.How can you replace all elements in a NumPy array that are less than 0\n",
    "with 0?**"
   ]
  },
  {
   "cell_type": "code",
   "execution_count": 21,
   "id": "218d6d2f",
   "metadata": {},
   "outputs": [
    {
     "data": {
      "text/plain": [
       "array([0, 2, 0, 4, 0])"
      ]
     },
     "execution_count": 21,
     "metadata": {},
     "output_type": "execute_result"
    }
   ],
   "source": [
    "arr = np.array([-3, 2, -1, 4, -5])\n",
    "arr[arr < 0] = 0\n",
    "arr"
   ]
  },
  {
   "cell_type": "markdown",
   "id": "6231d701",
   "metadata": {},
   "source": [
    "**18.How do you stack two arrays vertically in NumPy?**"
   ]
  },
  {
   "cell_type": "code",
   "execution_count": 22,
   "id": "4344cc96",
   "metadata": {},
   "outputs": [
    {
     "data": {
      "text/plain": [
       "array([[ 1,  2,  3],\n",
       "       [ 4,  5,  6],\n",
       "       [ 7,  8,  9],\n",
       "       [10, 11, 12]])"
      ]
     },
     "execution_count": 22,
     "metadata": {},
     "output_type": "execute_result"
    }
   ],
   "source": [
    "array1 = np.array([[1, 2, 3],\n",
    "                   [4, 5, 6]])\n",
    "\n",
    "array2 = np.array([[7, 8, 9],\n",
    "                   [10, 11, 12]])\n",
    "\n",
    "stacked_array = np.vstack((array1, array2))\n",
    "stacked_array"
   ]
  },
  {
   "cell_type": "markdown",
   "id": "911e3fc2",
   "metadata": {},
   "source": [
    "**19.How do you stack two arrays horizontally in NumPy?**"
   ]
  },
  {
   "cell_type": "code",
   "execution_count": 23,
   "id": "5cd128ef",
   "metadata": {},
   "outputs": [
    {
     "data": {
      "text/plain": [
       "array([[ 1,  2,  3,  7,  8,  9],\n",
       "       [ 4,  5,  6, 10, 11, 12]])"
      ]
     },
     "execution_count": 23,
     "metadata": {},
     "output_type": "execute_result"
    }
   ],
   "source": [
    "array1 = np.array([[1, 2, 3],\n",
    "                   [4, 5, 6]])\n",
    "\n",
    "array2 = np.array([[7, 8, 9],\n",
    "                   [10, 11, 12]])\n",
    "\n",
    "stacked_array = np.hstack((array1, array2))\n",
    "stacked_array"
   ]
  },
  {
   "cell_type": "markdown",
   "id": "eac5c8ea",
   "metadata": {},
   "source": [
    "**20.How can you create a NumPy array from a Python list?**"
   ]
  },
  {
   "cell_type": "code",
   "execution_count": 24,
   "id": "4e97a435",
   "metadata": {},
   "outputs": [
    {
     "data": {
      "text/plain": [
       "array([1, 2, 3, 4, 5])"
      ]
     },
     "execution_count": 24,
     "metadata": {},
     "output_type": "execute_result"
    }
   ],
   "source": [
    "python_list = [1, 2, 3, 4, 5]\n",
    "numpy_array = np.array(python_list)\n",
    "numpy_array"
   ]
  },
  {
   "cell_type": "markdown",
   "id": "c16d286a",
   "metadata": {},
   "source": [
    "**21.How can you concatenate two arrays along a specified axis in NumPy?**"
   ]
  },
  {
   "cell_type": "code",
   "execution_count": 25,
   "id": "230ed049",
   "metadata": {},
   "outputs": [
    {
     "name": "stdout",
     "output_type": "stream",
     "text": [
      "Concatenated along axis 0:\n",
      "[[ 1  2  3]\n",
      " [ 4  5  6]\n",
      " [ 7  8  9]\n",
      " [10 11 12]]\n",
      "\n",
      "Concatenated along axis 1:\n",
      "[[ 1  2  3  7  8  9]\n",
      " [ 4  5  6 10 11 12]]\n"
     ]
    }
   ],
   "source": [
    "array1 = np.array([[1, 2, 3],\n",
    "                   [4, 5, 6]])\n",
    "\n",
    "array2 = np.array([[7, 8, 9],\n",
    "                   [10, 11, 12]])\n",
    "\n",
    "result_axis0 = np.concatenate((array1, array2), axis=0)\n",
    "\n",
    "result_axis1 = np.concatenate((array1, array2), axis=1)\n",
    "\n",
    "\n",
    "print(\"Concatenated along axis 0:\")\n",
    "print(result_axis0)\n",
    "\n",
    "print(\"\\nConcatenated along axis 1:\")\n",
    "print(result_axis1)\n"
   ]
  },
  {
   "cell_type": "markdown",
   "id": "563fd523",
   "metadata": {},
   "source": [
    "**22.How do you perform element-wise division of two arrays in NumPy?**"
   ]
  },
  {
   "cell_type": "code",
   "execution_count": 26,
   "id": "c86e6b1e",
   "metadata": {},
   "outputs": [
    {
     "data": {
      "text/plain": [
       "array([5., 5., 6.])"
      ]
     },
     "execution_count": 26,
     "metadata": {},
     "output_type": "execute_result"
    }
   ],
   "source": [
    "array1 = np.array([10, 20, 30])\n",
    "array2 = np.array([2, 4, 5])\n",
    "result = array1 / array2\n",
    "result"
   ]
  },
  {
   "cell_type": "markdown",
   "id": "0208baf4",
   "metadata": {},
   "source": [
    "**23.How do you find the unique elements in a NumPy array?**"
   ]
  },
  {
   "cell_type": "code",
   "execution_count": 27,
   "id": "c5fff115",
   "metadata": {},
   "outputs": [
    {
     "data": {
      "text/plain": [
       "array([1, 2, 3, 4, 5])"
      ]
     },
     "execution_count": 27,
     "metadata": {},
     "output_type": "execute_result"
    }
   ],
   "source": [
    "array = np.array([1, 2, 2, 3, 4, 4, 5])\n",
    "UNIQE= np.unique(array)\n",
    "UNIQE"
   ]
  },
  {
   "cell_type": "markdown",
   "id": "156d9c22",
   "metadata": {},
   "source": [
    "**24.How can you get the dot product of two vectors using NumPy?**"
   ]
  },
  {
   "cell_type": "code",
   "execution_count": 28,
   "id": "8efb6611",
   "metadata": {},
   "outputs": [
    {
     "data": {
      "text/plain": [
       "32"
      ]
     },
     "execution_count": 28,
     "metadata": {},
     "output_type": "execute_result"
    }
   ],
   "source": [
    "vector1 = np.array([1, 2, 3])\n",
    "vector2 = np.array([4, 5, 6])\n",
    "dot_product = np.dot(vector1, vector2)\n",
    "dot_product"
   ]
  },
  {
   "cell_type": "markdown",
   "id": "70a812c1",
   "metadata": {},
   "source": [
    "**25.How do you sort a NumPy array in ascending order?**"
   ]
  },
  {
   "cell_type": "code",
   "execution_count": 29,
   "id": "0ec8d594",
   "metadata": {},
   "outputs": [
    {
     "data": {
      "text/plain": [
       "array([1, 2, 5, 5, 6, 9])"
      ]
     },
     "execution_count": 29,
     "metadata": {},
     "output_type": "execute_result"
    }
   ],
   "source": [
    "array = np.array([5, 2, 9, 1, 5, 6])\n",
    "sorted_array = np.sort(array)\n",
    "sorted_array"
   ]
  }
 ],
 "metadata": {
  "kernelspec": {
   "display_name": "Python 3 (ipykernel)",
   "language": "python",
   "name": "python3"
  },
  "language_info": {
   "codemirror_mode": {
    "name": "ipython",
    "version": 3
   },
   "file_extension": ".py",
   "mimetype": "text/x-python",
   "name": "python",
   "nbconvert_exporter": "python",
   "pygments_lexer": "ipython3",
   "version": "3.11.0"
  }
 },
 "nbformat": 4,
 "nbformat_minor": 5
}
