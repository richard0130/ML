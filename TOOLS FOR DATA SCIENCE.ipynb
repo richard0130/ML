{
 "cells": [
  {
   "cell_type": "markdown",
   "id": "6c20634a",
   "metadata": {},
   "source": [
    "# Data Science Tools and Examples\n"
   ]
  },
  {
   "cell_type": "markdown",
   "id": "b6bd26fe",
   "metadata": {},
   "source": [
    "## Introduction\n",
    "This notebook covers essential tools and concepts used in Data Science, including popular languages, libraries, and some arithmetic operations.\n"
   ]
  },
  {
   "cell_type": "markdown",
   "id": "11ee4e89",
   "metadata": {},
   "source": [
    "## Data Science Languages\n",
    "- Python\n",
    "- R\n",
    "- SQL\n",
    "- Julia\n",
    "- Java\n"
   ]
  },
  {
   "cell_type": "markdown",
   "id": "0e5dcf9a",
   "metadata": {},
   "source": [
    "## Data Science Libraries\n",
    "- Pandas\n",
    "- NumPy\n",
    "- Scikit-learn\n",
    "- TensorFlow\n",
    "- ggplot2\n"
   ]
  },
  {
   "cell_type": "markdown",
   "id": "d9dde594",
   "metadata": {},
   "source": [
    "## Data Science Tools\n",
    "| Tool Name      | Description                |\n",
    "|----------------|----------------------------|\n",
    "| Jupyter        | Notebook environment       |\n",
    "| RStudio        | IDE for R                  |\n",
    "| Apache Hadoop  | Distributed data processing|\n",
    "| TensorFlow     | Machine learning framework |\n"
   ]
  },
  {
   "cell_type": "markdown",
   "id": "82d141d8",
   "metadata": {},
   "source": [
    "## Arithmetic Expression Examples\n",
    "Below are examples of basic arithmetic operations such as addition and multiplication.\n"
   ]
  },
  {
   "cell_type": "code",
   "execution_count": 3,
   "id": "ab25eb03",
   "metadata": {},
   "outputs": [
    {
     "data": {
      "text/plain": [
       "17"
      ]
     },
     "execution_count": 3,
     "metadata": {},
     "output_type": "execute_result"
    }
   ],
   "source": [
    "# Multiply and add numbers\n",
    "result = (3 * 4) + 5\n",
    "result\n"
   ]
  },
  {
   "cell_type": "code",
   "execution_count": 4,
   "id": "446a2a9a",
   "metadata": {},
   "outputs": [
    {
     "data": {
      "text/plain": [
       "2.0"
      ]
     },
     "execution_count": 4,
     "metadata": {},
     "output_type": "execute_result"
    }
   ],
   "source": [
    "# Convert minutes to hours\n",
    "minutes = 120\n",
    "hours = minutes / 60\n",
    "hours\n"
   ]
  },
  {
   "cell_type": "markdown",
   "id": "b5f352ba",
   "metadata": {},
   "source": [
    "## Objectives\n",
    "- List Data Science languages\n",
    "- Identify key libraries used in Data Science\n",
    "- Perform basic arithmetic operations\n",
    "- Convert time from minutes to hours\n"
   ]
  },
  {
   "cell_type": "markdown",
   "id": "ac9ba2f4",
   "metadata": {},
   "source": [
    "## Author\n",
    "RICHARD\n"
   ]
  },
  {
   "cell_type": "code",
   "execution_count": null,
   "id": "b4a039c4",
   "metadata": {},
   "outputs": [],
   "source": []
  },
  {
   "cell_type": "code",
   "execution_count": null,
   "id": "4ecbc038",
   "metadata": {},
   "outputs": [],
   "source": []
  }
 ],
 "metadata": {
  "kernelspec": {
   "display_name": "Python 3 (ipykernel)",
   "language": "python",
   "name": "python3"
  },
  "language_info": {
   "codemirror_mode": {
    "name": "ipython",
    "version": 3
   },
   "file_extension": ".py",
   "mimetype": "text/x-python",
   "name": "python",
   "nbconvert_exporter": "python",
   "pygments_lexer": "ipython3",
   "version": "3.11.0"
  }
 },
 "nbformat": 4,
 "nbformat_minor": 5
}
